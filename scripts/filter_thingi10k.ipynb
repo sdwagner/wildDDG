{
 "cells": [
  {
   "cell_type": "markdown",
   "id": "81f79b1d",
   "metadata": {},
   "source": [
    "# Script for downloading and filtering the Thingi10k dataset"
   ]
  },
  {
   "cell_type": "markdown",
   "id": "09801aff",
   "metadata": {},
   "source": [
    "Please install the [Thingi10k](https://github.com/Thingi10K/Thingi10K) package first via pip (Note that some numpy versions >2.0 may break the package. `numpy==1.26.4` should work fine).  \n",
    "\n",
    "Example: `pip install numpy==1.26.4 thingi10k`\n",
    "\n",
    "Note that the filtering and writing may take a while."
   ]
  },
  {
   "cell_type": "code",
   "execution_count": null,
   "id": "afaa1526",
   "metadata": {},
   "outputs": [],
   "source": [
    "import thingi10k\n",
    "import os\n",
    "\n",
    "thingi10k.init() # Download the dataset and update cache"
   ]
  },
  {
   "cell_type": "code",
   "execution_count": 2,
   "id": "45803fb7",
   "metadata": {},
   "outputs": [],
   "source": [
    "def write_obj(filepath, vertices, faces):\n",
    "    with open(filepath, 'w') as f:\n",
    "        f.write(\"# OBJ file\\n\")\n",
    "        for i, v in enumerate(vertices):\n",
    "            if (i in faces.flatten()):\n",
    "                f.write(f\"v {v[0]:4f} {v[1]:4f} {v[2]:4f}\\n\")\n",
    "        for p in faces:\n",
    "            if len(p) != 3:\n",
    "                raise Exception()\n",
    "            f.write(\"f\")\n",
    "            for i in p:\n",
    "                f.write(\" %d\" % (i + 1))\n",
    "            f.write(\"\\n\")"
   ]
  },
  {
   "cell_type": "code",
   "execution_count": null,
   "id": "7ef9de5d",
   "metadata": {},
   "outputs": [],
   "source": [
    "if not os.path.exists(\"../thingi10k/\"):\n",
    "    os.makedirs(\"../thingi10k/\")"
   ]
  },
  {
   "cell_type": "code",
   "execution_count": null,
   "id": "6de07d00",
   "metadata": {},
   "outputs": [],
   "source": [
    "dataset_ = thingi10k.dataset(num_components=1, manifold=True, num_facets=(2, None))\n",
    "for i, entry in enumerate(dataset_):\n",
    "    try:\n",
    "        vertices, facets = thingi10k.load_file(entry['file_path'])\n",
    "        write_obj(\"../thingi10k/\"+str(i)+\".obj\", vertices, facets)\n",
    "    except Exception as err:\n",
    "        print(err)\n",
    "        print(i)\n",
    "        os.remove(\"../thingi10k/\"+str(i)+\".obj\")\n",
    "\n",
    "len(dataset_)"
   ]
  }
 ],
 "metadata": {
  "kernelspec": {
   "display_name": "thingi10k",
   "language": "python",
   "name": "python3"
  },
  "language_info": {
   "codemirror_mode": {
    "name": "ipython",
    "version": 3
   },
   "file_extension": ".py",
   "mimetype": "text/x-python",
   "name": "python",
   "nbconvert_exporter": "python",
   "pygments_lexer": "ipython3",
   "version": "3.13.5"
  }
 },
 "nbformat": 4,
 "nbformat_minor": 5
}
